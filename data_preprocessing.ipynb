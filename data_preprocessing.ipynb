{
 "cells": [
  {
   "cell_type": "markdown",
   "metadata": {},
   "source": [
    "# importing libaries"
   ]
  },
  {
   "cell_type": "code",
   "execution_count": 8,
   "metadata": {},
   "outputs": [
    {
     "name": "stderr",
     "output_type": "stream",
     "text": [
      "[nltk_data] Downloading package punkt to\n",
      "[nltk_data]     C:\\Users\\wish6\\AppData\\Roaming\\nltk_data...\n",
      "[nltk_data]   Package punkt is already up-to-date!\n",
      "[nltk_data] Downloading package stopwords to\n",
      "[nltk_data]     C:\\Users\\wish6\\AppData\\Roaming\\nltk_data...\n",
      "[nltk_data]   Package stopwords is already up-to-date!\n"
     ]
    },
    {
     "data": {
      "text/plain": [
       "True"
      ]
     },
     "execution_count": 8,
     "metadata": {},
     "output_type": "execute_result"
    }
   ],
   "source": [
    "# Importing important packages\n",
    "import os\n",
    "import sys\n",
    "\n",
    "# Data Wrangling and manipulation\n",
    "import pandas as pd\n",
    "import numpy as np\n",
    "\n",
    "import matplotlib.pyplot as plt\n",
    "import seaborn as sns\n",
    "# from wordcloud import WordCloud\n",
    "%matplotlib inline\n",
    "\n",
    "from sklearn.model_selection import train_test_split\n",
    "\n",
    "# Importing from the NLP tools\n",
    "import spacy # for lemmatization\n",
    "nlp = spacy.load('en_core_web_sm')\n",
    "\n",
    "import re   # regex\n",
    "import nltk\n",
    "from nltk.corpus import stopwords\n",
    "from nltk.stem import WordNetLemmatizer\n",
    "from nltk.tokenize import word_tokenize\n",
    "nltk.download('punkt') # for word_tokenize\n",
    "nltk.download('stopwords') # for stopwords\n"
   ]
  },
  {
   "cell_type": "code",
   "execution_count": 9,
   "metadata": {},
   "outputs": [
    {
     "data": {
      "text/html": [
       "<div>\n",
       "<style scoped>\n",
       "    .dataframe tbody tr th:only-of-type {\n",
       "        vertical-align: middle;\n",
       "    }\n",
       "\n",
       "    .dataframe tbody tr th {\n",
       "        vertical-align: top;\n",
       "    }\n",
       "\n",
       "    .dataframe thead th {\n",
       "        text-align: right;\n",
       "    }\n",
       "</style>\n",
       "<table border=\"1\" class=\"dataframe\">\n",
       "  <thead>\n",
       "    <tr style=\"text-align: right;\">\n",
       "      <th></th>\n",
       "      <th>resume</th>\n",
       "      <th>role</th>\n",
       "    </tr>\n",
       "  </thead>\n",
       "  <tbody>\n",
       "    <tr>\n",
       "      <th>0</th>\n",
       "      <td>HR ADMINISTRATOR/MARKETING ASSOCIATE\\...</td>\n",
       "      <td>HR</td>\n",
       "    </tr>\n",
       "    <tr>\n",
       "      <th>1</th>\n",
       "      <td>HR SPECIALIST, US HR OPERATIONS      ...</td>\n",
       "      <td>HR</td>\n",
       "    </tr>\n",
       "    <tr>\n",
       "      <th>2</th>\n",
       "      <td>HR DIRECTOR       Summary      Over 2...</td>\n",
       "      <td>HR</td>\n",
       "    </tr>\n",
       "  </tbody>\n",
       "</table>\n",
       "</div>"
      ],
      "text/plain": [
       "                                              resume role\n",
       "0           HR ADMINISTRATOR/MARKETING ASSOCIATE\\...   HR\n",
       "1           HR SPECIALIST, US HR OPERATIONS      ...   HR\n",
       "2           HR DIRECTOR       Summary      Over 2...   HR"
      ]
     },
     "execution_count": 9,
     "metadata": {},
     "output_type": "execute_result"
    }
   ],
   "source": [
    "# Loading the data\n",
    "data = pd.read_csv('Resume.csv')\n",
    "\n",
    "# drop unused column\n",
    "data.drop(columns=['ID', 'Resume_html'], inplace=True)\n",
    "\n",
    "# renaming columns to make easier access\n",
    "data.rename(columns={'Resume_str':'resume', 'Category':'role'}, inplace=True)\n",
    "\n",
    "# Checking out a sample format of the loaded data\n",
    "data.head(3)"
   ]
  },
  {
   "cell_type": "code",
   "execution_count": 10,
   "metadata": {},
   "outputs": [
    {
     "name": "stdout",
     "output_type": "stream",
     "text": [
      "<class 'pandas.core.frame.DataFrame'>\n",
      "RangeIndex: 2484 entries, 0 to 2483\n",
      "Data columns (total 2 columns):\n",
      " #   Column  Non-Null Count  Dtype \n",
      "---  ------  --------------  ----- \n",
      " 0   resume  2484 non-null   object\n",
      " 1   role    2484 non-null   object\n",
      "dtypes: object(2)\n",
      "memory usage: 38.9+ KB\n"
     ]
    }
   ],
   "source": [
    "data['resume'] = data['resume'].astype(str)\n",
    "data.info()"
   ]
  },
  {
   "cell_type": "markdown",
   "metadata": {},
   "source": [
    "# Data preprocessing"
   ]
  },
  {
   "cell_type": "code",
   "execution_count": 11,
   "metadata": {},
   "outputs": [],
   "source": [
    "# removing this entry because resume is a empty string\n",
    "data.drop(656, inplace=True)"
   ]
  },
  {
   "cell_type": "code",
   "execution_count": 12,
   "metadata": {},
   "outputs": [
    {
     "data": {
      "text/plain": [
       "0"
      ]
     },
     "execution_count": 12,
     "metadata": {},
     "output_type": "execute_result"
    }
   ],
   "source": [
    "# checking duplicated\n",
    "data.drop_duplicates(inplace=True)\n",
    "data.duplicated().sum()"
   ]
  },
  {
   "cell_type": "code",
   "execution_count": 13,
   "metadata": {},
   "outputs": [
    {
     "data": {
      "text/plain": [
       "(2481, 2)"
      ]
     },
     "execution_count": 13,
     "metadata": {},
     "output_type": "execute_result"
    }
   ],
   "source": [
    "data.shape"
   ]
  },
  {
   "cell_type": "code",
   "execution_count": 14,
   "metadata": {},
   "outputs": [
    {
     "data": {
      "text/html": [
       "<div>\n",
       "<style scoped>\n",
       "    .dataframe tbody tr th:only-of-type {\n",
       "        vertical-align: middle;\n",
       "    }\n",
       "\n",
       "    .dataframe tbody tr th {\n",
       "        vertical-align: top;\n",
       "    }\n",
       "\n",
       "    .dataframe thead th {\n",
       "        text-align: right;\n",
       "    }\n",
       "</style>\n",
       "<table border=\"1\" class=\"dataframe\">\n",
       "  <thead>\n",
       "    <tr style=\"text-align: right;\">\n",
       "      <th></th>\n",
       "      <th>resume</th>\n",
       "      <th>role</th>\n",
       "    </tr>\n",
       "  </thead>\n",
       "  <tbody>\n",
       "    <tr>\n",
       "      <th>1457</th>\n",
       "      <td>FOOD SERVER       Professional Summar...</td>\n",
       "      <td>CHEF</td>\n",
       "    </tr>\n",
       "    <tr>\n",
       "      <th>1221</th>\n",
       "      <td>CONSULTANT ACCOUNT       Summary    T...</td>\n",
       "      <td>CONSULTANT</td>\n",
       "    </tr>\n",
       "    <tr>\n",
       "      <th>760</th>\n",
       "      <td>SENIOR SPECIALTY SALES REPRESENTATIVE...</td>\n",
       "      <td>HEALTHCARE</td>\n",
       "    </tr>\n",
       "    <tr>\n",
       "      <th>11</th>\n",
       "      <td>HR MANAGER         Summary      Human...</td>\n",
       "      <td>HR</td>\n",
       "    </tr>\n",
       "    <tr>\n",
       "      <th>2083</th>\n",
       "      <td>BILLING SERVICES ASSOCIATE           ...</td>\n",
       "      <td>PUBLIC-RELATIONS</td>\n",
       "    </tr>\n",
       "  </tbody>\n",
       "</table>\n",
       "</div>"
      ],
      "text/plain": [
       "                                                 resume              role\n",
       "1457           FOOD SERVER       Professional Summar...              CHEF\n",
       "1221           CONSULTANT ACCOUNT       Summary    T...        CONSULTANT\n",
       "760            SENIOR SPECIALTY SALES REPRESENTATIVE...        HEALTHCARE\n",
       "11             HR MANAGER         Summary      Human...                HR\n",
       "2083           BILLING SERVICES ASSOCIATE           ...  PUBLIC-RELATIONS"
      ]
     },
     "execution_count": 14,
     "metadata": {},
     "output_type": "execute_result"
    }
   ],
   "source": [
    "data.sample(5)"
   ]
  },
  {
   "cell_type": "markdown",
   "metadata": {},
   "source": [
    "function for cleaning text,\n",
    "- change text to lower case\n",
    "- remove email, URLs, html tags, non-english characters\n",
    "- remove extra space\n",
    "- lemmatizing or converting words into their base forms eg. apples -> apple, flying -> fly\n",
    "- remove stopwords eg. I, you, am, etc."
   ]
  },
  {
   "cell_type": "code",
   "execution_count": 15,
   "metadata": {},
   "outputs": [],
   "source": [
    "def clean(text):\n",
    "    text = text.lower()\n",
    "\n",
    "    text = re.sub('^[\\w\\-\\.]+@([\\w-]+\\.)+[\\w-]{2,4}', ' ', text)  # remove email\n",
    "    text = re.sub('[(http(s)?):\\/\\/(www\\.)?a-zA-Z0-9@:%._\\+~#=]{2,256}\\.[a-z]{2,6}\\b([-a-zA-Z0-9@:%_\\+.~#\\?&//=]*)', ' ', text)  # remove URLs\n",
    "    text = re.sub('<.+?>', ' ', text)  # html tags\n",
    "    text = re.sub('[^a-z]', ' ', text) # remove non-characters\n",
    "    text = re.sub('\\s+', ' ', text)  # remove extra whitespace\n",
    "\n",
    "    doc = nlp(text) # change text into DOC object\n",
    "    text = ' '.join([token.lemma_ for token in doc]) # lemmatization\n",
    "     \n",
    "    text = text.lower() # we need to change \n",
    "     \n",
    "    text = word_tokenize(text) # tokenize word in list\n",
    "    \n",
    "    stop_words = set(stopwords.words('english')) # get stopwords\n",
    "    text = [word for word in text if word not in stop_words] # remove stop words\n",
    "    \n",
    "    return ' '.join(text)"
   ]
  },
  {
   "cell_type": "code",
   "execution_count": 16,
   "metadata": {},
   "outputs": [
    {
     "data": {
      "text/plain": [
       "'sly king fly'"
      ]
     },
     "execution_count": 16,
     "metadata": {},
     "output_type": "execute_result"
    }
   ],
   "source": [
    "clean(\"I am sly king of the fly.\")"
   ]
  },
  {
   "cell_type": "code",
   "execution_count": 17,
   "metadata": {},
   "outputs": [],
   "source": [
    "data['resume'] = data['resume'].apply(lambda x : clean(x))"
   ]
  },
  {
   "cell_type": "code",
   "execution_count": 82,
   "metadata": {},
   "outputs": [
    {
     "data": {
      "text/html": [
       "<div>\n",
       "<style scoped>\n",
       "    .dataframe tbody tr th:only-of-type {\n",
       "        vertical-align: middle;\n",
       "    }\n",
       "\n",
       "    .dataframe tbody tr th {\n",
       "        vertical-align: top;\n",
       "    }\n",
       "\n",
       "    .dataframe thead th {\n",
       "        text-align: right;\n",
       "    }\n",
       "</style>\n",
       "<table border=\"1\" class=\"dataframe\">\n",
       "  <thead>\n",
       "    <tr style=\"text-align: right;\">\n",
       "      <th></th>\n",
       "      <th>resume</th>\n",
       "      <th>role</th>\n",
       "      <th>role_id</th>\n",
       "    </tr>\n",
       "  </thead>\n",
       "  <tbody>\n",
       "    <tr>\n",
       "      <th>2227</th>\n",
       "      <td>employee relation consultant summary human res...</td>\n",
       "      <td>BANKING</td>\n",
       "      <td>7</td>\n",
       "    </tr>\n",
       "    <tr>\n",
       "      <th>781</th>\n",
       "      <td>health system analyst summary healthcare busin...</td>\n",
       "      <td>HEALTHCARE</td>\n",
       "      <td>18</td>\n",
       "    </tr>\n",
       "    <tr>\n",
       "      <th>1716</th>\n",
       "      <td>engineering technician summary work engineer t...</td>\n",
       "      <td>ENGINEERING</td>\n",
       "      <td>15</td>\n",
       "    </tr>\n",
       "    <tr>\n",
       "      <th>2232</th>\n",
       "      <td>financial analyst intern skill financial plann...</td>\n",
       "      <td>BANKING</td>\n",
       "      <td>7</td>\n",
       "    </tr>\n",
       "    <tr>\n",
       "      <th>916</th>\n",
       "      <td>adult education teacher accomplishment cal pol...</td>\n",
       "      <td>AGRICULTURE</td>\n",
       "      <td>2</td>\n",
       "    </tr>\n",
       "    <tr>\n",
       "      <th>1022</th>\n",
       "      <td>sale associate golf sale associate executive s...</td>\n",
       "      <td>SALES</td>\n",
       "      <td>22</td>\n",
       "    </tr>\n",
       "    <tr>\n",
       "      <th>111</th>\n",
       "      <td>designer summary establish well rounded design...</td>\n",
       "      <td>DESIGNER</td>\n",
       "      <td>13</td>\n",
       "    </tr>\n",
       "    <tr>\n",
       "      <th>1742</th>\n",
       "      <td>software engineering manager summary multiface...</td>\n",
       "      <td>ENGINEERING</td>\n",
       "      <td>15</td>\n",
       "    </tr>\n",
       "    <tr>\n",
       "      <th>1526</th>\n",
       "      <td>finance manager summary ability communicate ef...</td>\n",
       "      <td>FINANCE</td>\n",
       "      <td>16</td>\n",
       "    </tr>\n",
       "    <tr>\n",
       "      <th>828</th>\n",
       "      <td>care coordinator professional summary position...</td>\n",
       "      <td>FITNESS</td>\n",
       "      <td>17</td>\n",
       "    </tr>\n",
       "  </tbody>\n",
       "</table>\n",
       "</div>"
      ],
      "text/plain": [
       "                                                 resume         role  role_id\n",
       "2227  employee relation consultant summary human res...      BANKING        7\n",
       "781   health system analyst summary healthcare busin...   HEALTHCARE       18\n",
       "1716  engineering technician summary work engineer t...  ENGINEERING       15\n",
       "2232  financial analyst intern skill financial plann...      BANKING        7\n",
       "916   adult education teacher accomplishment cal pol...  AGRICULTURE        2\n",
       "1022  sale associate golf sale associate executive s...        SALES       22\n",
       "111   designer summary establish well rounded design...     DESIGNER       13\n",
       "1742  software engineering manager summary multiface...  ENGINEERING       15\n",
       "1526  finance manager summary ability communicate ef...      FINANCE       16\n",
       "828   care coordinator professional summary position...      FITNESS       17"
      ]
     },
     "execution_count": 82,
     "metadata": {},
     "output_type": "execute_result"
    }
   ],
   "source": [
    "data.sample(10)"
   ]
  },
  {
   "cell_type": "markdown",
   "metadata": {},
   "source": [
    "# Label Encoding"
   ]
  },
  {
   "cell_type": "code",
   "execution_count": 19,
   "metadata": {},
   "outputs": [
    {
     "name": "stdout",
     "output_type": "stream",
     "text": [
      "0 : ACCOUNTANT\n",
      "1 : ADVOCATE\n",
      "2 : AGRICULTURE\n",
      "3 : APPAREL\n",
      "4 : ARTS\n",
      "5 : AUTOMOBILE\n",
      "6 : AVIATION\n",
      "7 : BANKING\n",
      "8 : BPO\n",
      "9 : BUSINESS-DEVELOPMENT\n",
      "10 : CHEF\n",
      "11 : CONSTRUCTION\n",
      "12 : CONSULTANT\n",
      "13 : DESIGNER\n",
      "14 : DIGITAL-MEDIA\n",
      "15 : ENGINEERING\n",
      "16 : FINANCE\n",
      "17 : FITNESS\n",
      "18 : HEALTHCARE\n",
      "19 : HR\n",
      "20 : INFORMATION-TECHNOLOGY\n",
      "21 : PUBLIC-RELATIONS\n",
      "22 : SALES\n",
      "23 : TEACHER\n"
     ]
    }
   ],
   "source": [
    "from sklearn import preprocessing\n",
    "le = preprocessing.LabelEncoder()\n",
    "\n",
    "# label encoding -> role\n",
    "data['role_id'] = le.fit_transform(data['role'])\n",
    "\n",
    "# printing labels\n",
    "for i,v in enumerate(le.classes_):\n",
    "    print(f'{i} : {v}')"
   ]
  },
  {
   "cell_type": "code",
   "execution_count": 85,
   "metadata": {},
   "outputs": [
    {
     "data": {
      "text/html": [
       "<div>\n",
       "<style scoped>\n",
       "    .dataframe tbody tr th:only-of-type {\n",
       "        vertical-align: middle;\n",
       "    }\n",
       "\n",
       "    .dataframe tbody tr th {\n",
       "        vertical-align: top;\n",
       "    }\n",
       "\n",
       "    .dataframe thead th {\n",
       "        text-align: right;\n",
       "    }\n",
       "</style>\n",
       "<table border=\"1\" class=\"dataframe\">\n",
       "  <thead>\n",
       "    <tr style=\"text-align: right;\">\n",
       "      <th></th>\n",
       "      <th>resume</th>\n",
       "      <th>role</th>\n",
       "      <th>role_id</th>\n",
       "    </tr>\n",
       "  </thead>\n",
       "  <tbody>\n",
       "    <tr>\n",
       "      <th>0</th>\n",
       "      <td>hr administrator marketing associate hr admini...</td>\n",
       "      <td>HR</td>\n",
       "      <td>19</td>\n",
       "    </tr>\n",
       "    <tr>\n",
       "      <th>1</th>\n",
       "      <td>hr specialist hr operation summary versatile m...</td>\n",
       "      <td>HR</td>\n",
       "      <td>19</td>\n",
       "    </tr>\n",
       "    <tr>\n",
       "      <th>2</th>\n",
       "      <td>hr director summary year experience recruiting...</td>\n",
       "      <td>HR</td>\n",
       "      <td>19</td>\n",
       "    </tr>\n",
       "    <tr>\n",
       "      <th>3</th>\n",
       "      <td>hr specialist summary dedicate driven dynamic ...</td>\n",
       "      <td>HR</td>\n",
       "      <td>19</td>\n",
       "    </tr>\n",
       "    <tr>\n",
       "      <th>4</th>\n",
       "      <td>hr manager skill highlight hr skill hr departm...</td>\n",
       "      <td>HR</td>\n",
       "      <td>19</td>\n",
       "    </tr>\n",
       "  </tbody>\n",
       "</table>\n",
       "</div>"
      ],
      "text/plain": [
       "                                              resume role  role_id\n",
       "0  hr administrator marketing associate hr admini...   HR       19\n",
       "1  hr specialist hr operation summary versatile m...   HR       19\n",
       "2  hr director summary year experience recruiting...   HR       19\n",
       "3  hr specialist summary dedicate driven dynamic ...   HR       19\n",
       "4  hr manager skill highlight hr skill hr departm...   HR       19"
      ]
     },
     "execution_count": 85,
     "metadata": {},
     "output_type": "execute_result"
    }
   ],
   "source": [
    "data.head()"
   ]
  },
  {
   "cell_type": "code",
   "execution_count": 83,
   "metadata": {},
   "outputs": [],
   "source": [
    "data.to_csv('cleaned_Resume.csv', index=False)"
   ]
  },
  {
   "cell_type": "markdown",
   "metadata": {},
   "source": [
    "# Exploratory Data Analysis : check word frequency"
   ]
  },
  {
   "cell_type": "code",
   "execution_count": 21,
   "metadata": {},
   "outputs": [],
   "source": [
    "all_records = ''\n",
    "\n",
    "# combining records into one string\n",
    "for record in data['resume']:\n",
    "    all_records += record\n",
    "    \n",
    "# creating wordcloud\n",
    "# wordcloud = WordCloud(background_color ='black',min_font_size = 10, colormap='Blues').generate(all_records)\n",
    "   \n",
    "# # plotting wordcloud \n",
    "# plt.figure(figsize = (8, 8), facecolor = 'black')\n",
    "# plt.imshow(wordcloud, interpolation='bilinear')\n",
    "# plt.axis(\"off\")\n",
    "# plt.tight_layout(pad = 0)\n",
    " \n",
    "# plt.show()"
   ]
  },
  {
   "cell_type": "code",
   "execution_count": 22,
   "metadata": {},
   "outputs": [
    {
     "name": "stdout",
     "output_type": "stream",
     "text": [
      "[('state', 16256), ('company', 15714), ('city', 15100), ('management', 12110), ('name', 11776), ('customer', 11301), ('service', 9055), ('work', 8686), ('sale', 8369), ('skill', 8023), ('business', 7990), ('project', 7924), ('team', 7134), ('system', 7085), ('manage', 6612), ('client', 6489), ('new', 6420), ('experience', 6239), ('include', 6117), ('process', 6070), ('maintain', 5962), ('develop', 5947), ('development', 5797), ('provide', 5650), ('manager', 5526), ('training', 5239), ('report', 5194), ('support', 5063), ('program', 5023), ('design', 5005), ('account', 4983), ('product', 4847), ('information', 4439), ('use', 4430), ('office', 4413), ('plan', 4402), ('employee', 4386), ('financial', 4327), ('marketing', 4295), ('staff', 4186), ('professional', 4183), ('education', 4095), ('create', 3961), ('ensure', 3933), ('need', 3705), ('year', 3687), ('operation', 3683), ('communication', 3631), ('assist', 3630), ('university', 3507)]\n"
     ]
    }
   ],
   "source": [
    "all_tokens = word_tokenize(all_records) # tokenize word in list\n",
    "word_freq = nltk.FreqDist(all_tokens)\n",
    "mostcommon = word_freq.most_common(50)\n",
    "print(mostcommon)\n"
   ]
  },
  {
   "cell_type": "markdown",
   "metadata": {},
   "source": [
    "# feature extraction : BoW, TF-IDF"
   ]
  },
  {
   "cell_type": "code",
   "execution_count": 23,
   "metadata": {},
   "outputs": [
    {
     "ename": "SyntaxError",
     "evalue": "invalid syntax (2518192608.py, line 3)",
     "output_type": "error",
     "traceback": [
      "\u001b[1;36m  Cell \u001b[1;32mIn [23], line 3\u001b[1;36m\u001b[0m\n\u001b[1;33m    texts = data/\u001b[0m\n\u001b[1;37m                 ^\u001b[0m\n\u001b[1;31mSyntaxError\u001b[0m\u001b[1;31m:\u001b[0m invalid syntax\n"
     ]
    }
   ],
   "source": [
    "from sklearn.feature_extraction.text import TfidfVectorizer\n",
    "\n",
    "texts = data/\n",
    "\n",
    "tfidf = TfidfVectorizer(min_df = 2, max_df = 0.5, ngram_range = (1, 2))\n",
    "features = tfidf.fit_transform(texts)\n",
    " \n",
    "pd.Dataframe(features.todense(), columns = tfidf.get_feature_names())"
   ]
  }
 ],
 "metadata": {
  "kernelspec": {
   "display_name": "Python 3.11.0 ('venv': venv)",
   "language": "python",
   "name": "python3"
  },
  "language_info": {
   "codemirror_mode": {
    "name": "ipython",
    "version": 3
   },
   "file_extension": ".py",
   "mimetype": "text/x-python",
   "name": "python",
   "nbconvert_exporter": "python",
   "pygments_lexer": "ipython3",
   "version": "3.11.0"
  },
  "vscode": {
   "interpreter": {
    "hash": "faab0e9ee9e49dc712a85e0e2405ff626683ff29c84b799188de0513e7e53fe3"
   }
  }
 },
 "nbformat": 4,
 "nbformat_minor": 4
}
